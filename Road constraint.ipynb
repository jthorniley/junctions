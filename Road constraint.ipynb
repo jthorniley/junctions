{
 "cells": [
  {
   "cell_type": "code",
   "execution_count": 24,
   "id": "5eec547d-a4fb-46b6-a79d-453e97ebaae2",
   "metadata": {},
   "outputs": [],
   "source": [
    "%matplotlib tk\n",
    "import matplotlib.pyplot as plt\n",
    "import matplotlib.image as mpimg\n",
    "\n",
    "fig = plt.figure(figsize=(6,6))\n",
    "ax = plt.subplot()\n",
    "ax.set_xlim([0, 100])\n",
    "ax.set_ylim([0, 100])\n",
    "\n",
    "\n",
    "def onclick(event):\n",
    "    ix, iy = event.xdata, event.ydata\n",
    "    print(ix, iy)\n",
    "\n",
    "cid = fig.canvas.mpl_connect('button_press_event', onclick)\n",
    "\n",
    "plt.show()"
   ]
  },
  {
   "cell_type": "code",
   "execution_count": 73,
   "id": "e144e591-727e-47fd-8860-bf965618bf43",
   "metadata": {},
   "outputs": [],
   "source": [
    "import numpy as np\n",
    "\n",
    "origin = (40, 50)\n",
    "bearing = np.deg2rad(200)\n"
   ]
  },
  {
   "cell_type": "code",
   "execution_count": 75,
   "id": "1d24bd08-85bc-43e6-8887-f1339a2f2236",
   "metadata": {},
   "outputs": [],
   "source": [
    "fig = plt.figure(figsize=(6,6))\n",
    "ax = plt.subplot()\n",
    "ax.set_xlim([0, 100])\n",
    "ax.set_ylim([0, 100])\n",
    "\n",
    "ax.add_patch(plt.Circle(origin, radius=1))\n",
    "\n",
    "line = None\n",
    "\n",
    "def onclick(event):\n",
    "    global line\n",
    "    px, py = event.xdata, event.ydata\n",
    "\n",
    "    if px is None or py is None:\n",
    "        return\n",
    "        \n",
    "    s = np.sin(bearing)\n",
    "    c = np.cos(bearing)\n",
    "    s2 = s*s\n",
    "    c2 = c*c\n",
    "    \n",
    "    l = (s*(px-origin[0])+c*(py-origin[1]))/(c2+s2)\n",
    "\n",
    "    if line:\n",
    "        line.remove()\n",
    "\n",
    "    line = ax.add_line(\n",
    "        plt.Line2D(\n",
    "            [origin[0], origin[0] + l * np.sin(bearing)],\n",
    "            [origin[1], origin[1] + l * np.cos(bearing)],\n",
    "        )\n",
    "    )\n",
    "\n",
    "    fig.canvas.draw()\n",
    "    \n",
    "cid = fig.canvas.mpl_connect('motion_notify_event', onclick)\n",
    "\n",
    "fig.show()"
   ]
  },
  {
   "cell_type": "code",
   "execution_count": null,
   "id": "06e13d78-3d81-422b-88be-251ef9bd468d",
   "metadata": {},
   "outputs": [],
   "source": []
  }
 ],
 "metadata": {
  "kernelspec": {
   "display_name": "Python 3 (ipykernel)",
   "language": "python",
   "name": "python3"
  },
  "language_info": {
   "codemirror_mode": {
    "name": "ipython",
    "version": 3
   },
   "file_extension": ".py",
   "mimetype": "text/x-python",
   "name": "python",
   "nbconvert_exporter": "python",
   "pygments_lexer": "ipython3",
   "version": "3.11.5"
  }
 },
 "nbformat": 4,
 "nbformat_minor": 5
}
